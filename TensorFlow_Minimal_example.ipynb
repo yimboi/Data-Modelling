{
 "cells": [
  {
   "cell_type": "markdown",
   "metadata": {},
   "source": [
    "# Minimal example with TensorFlow 2.0\n",
    "In this notebook we will recreate our machine learning algorithm using TF 2.0."
   ]
  },
  {
   "cell_type": "markdown",
   "metadata": {},
   "source": [
    "## Import the relevant libraries"
   ]
  },
  {
   "cell_type": "code",
   "execution_count": 1,
   "metadata": {
    "tags": []
   },
   "outputs": [],
   "source": [
    "import numpy as np\n",
    "import matplotlib.pyplot as plt\n",
    "import tensorflow as tf"
   ]
  },
  {
   "cell_type": "code",
   "execution_count": 2,
   "metadata": {},
   "outputs": [
    {
     "name": "stdout",
     "output_type": "stream",
     "text": [
      "2.12.0\n"
     ]
    }
   ],
   "source": [
    "print(tf.__version__)"
   ]
  },
  {
   "cell_type": "markdown",
   "metadata": {},
   "source": [
    "## Data generation"
   ]
  },
  {
   "cell_type": "code",
   "execution_count": 3,
   "metadata": {
    "tags": []
   },
   "outputs": [],
   "source": [
    "observations = 1000\n",
    "\n",
    "xs = np.random.uniform(low=-10, high=10, size=(observations,1))\n",
    "zs = np.random.uniform(-10, 10, (observations,1))\n",
    "\n",
    "generated_inputs = np.column_stack((xs,zs))\n",
    "\n",
    "noise = np.random.uniform(-1, 1, (observations,1))\n",
    "\n",
    "generated_targets = 2*xs - 3*zs + 5 + noise\n",
    "\n",
    "np.savez('TF_intro', inputs=generated_inputs, targets=generated_targets)\n"
   ]
  },
  {
   "cell_type": "markdown",
   "metadata": {},
   "source": [
    "## Solving with TensorFlow"
   ]
  },
  {
   "cell_type": "code",
   "execution_count": 4,
   "metadata": {
    "tags": []
   },
   "outputs": [],
   "source": [
    "training_data = np.load('TF_intro.npz')"
   ]
  },
  {
   "cell_type": "code",
   "execution_count": 5,
   "metadata": {
    "tags": []
   },
   "outputs": [
    {
     "name": "stdout",
     "output_type": "stream",
     "text": [
      "Epoch 1/100\n",
      "32/32 - 1s - loss: 29.5438 - 949ms/epoch - 30ms/step\n",
      "Epoch 2/100\n",
      "32/32 - 0s - loss: 4.8396 - 65ms/epoch - 2ms/step\n",
      "Epoch 3/100\n",
      "32/32 - 0s - loss: 1.5740 - 67ms/epoch - 2ms/step\n",
      "Epoch 4/100\n",
      "32/32 - 0s - loss: 0.6869 - 72ms/epoch - 2ms/step\n",
      "Epoch 5/100\n",
      "32/32 - 0s - loss: 0.4336 - 68ms/epoch - 2ms/step\n",
      "Epoch 6/100\n",
      "32/32 - 0s - loss: 0.3701 - 72ms/epoch - 2ms/step\n",
      "Epoch 7/100\n",
      "32/32 - 0s - loss: 0.3559 - 58ms/epoch - 2ms/step\n",
      "Epoch 8/100\n",
      "32/32 - 0s - loss: 0.3476 - 63ms/epoch - 2ms/step\n",
      "Epoch 9/100\n",
      "32/32 - 0s - loss: 0.3438 - 63ms/epoch - 2ms/step\n",
      "Epoch 10/100\n",
      "32/32 - 0s - loss: 0.3445 - 63ms/epoch - 2ms/step\n",
      "Epoch 11/100\n",
      "32/32 - 0s - loss: 0.3424 - 66ms/epoch - 2ms/step\n",
      "Epoch 12/100\n",
      "32/32 - 0s - loss: 0.3459 - 59ms/epoch - 2ms/step\n",
      "Epoch 13/100\n",
      "32/32 - 0s - loss: 0.3444 - 67ms/epoch - 2ms/step\n",
      "Epoch 14/100\n",
      "32/32 - 0s - loss: 0.3440 - 55ms/epoch - 2ms/step\n",
      "Epoch 15/100\n",
      "32/32 - 0s - loss: 0.3391 - 58ms/epoch - 2ms/step\n",
      "Epoch 16/100\n",
      "32/32 - 0s - loss: 0.3551 - 61ms/epoch - 2ms/step\n",
      "Epoch 17/100\n",
      "32/32 - 0s - loss: 0.3497 - 66ms/epoch - 2ms/step\n",
      "Epoch 18/100\n",
      "32/32 - 0s - loss: 0.3416 - 54ms/epoch - 2ms/step\n",
      "Epoch 19/100\n",
      "32/32 - 0s - loss: 0.3438 - 56ms/epoch - 2ms/step\n",
      "Epoch 20/100\n",
      "32/32 - 0s - loss: 0.3441 - 57ms/epoch - 2ms/step\n",
      "Epoch 21/100\n",
      "32/32 - 0s - loss: 0.3412 - 60ms/epoch - 2ms/step\n",
      "Epoch 22/100\n",
      "32/32 - 0s - loss: 0.3552 - 58ms/epoch - 2ms/step\n",
      "Epoch 23/100\n",
      "32/32 - 0s - loss: 0.3388 - 69ms/epoch - 2ms/step\n",
      "Epoch 24/100\n",
      "32/32 - 0s - loss: 0.3437 - 58ms/epoch - 2ms/step\n",
      "Epoch 25/100\n",
      "32/32 - 0s - loss: 0.3410 - 55ms/epoch - 2ms/step\n",
      "Epoch 26/100\n",
      "32/32 - 0s - loss: 0.3430 - 53ms/epoch - 2ms/step\n",
      "Epoch 27/100\n",
      "32/32 - 0s - loss: 0.3438 - 56ms/epoch - 2ms/step\n",
      "Epoch 28/100\n",
      "32/32 - 0s - loss: 0.3385 - 65ms/epoch - 2ms/step\n",
      "Epoch 29/100\n",
      "32/32 - 0s - loss: 0.3395 - 72ms/epoch - 2ms/step\n",
      "Epoch 30/100\n",
      "32/32 - 0s - loss: 0.3380 - 82ms/epoch - 3ms/step\n",
      "Epoch 31/100\n",
      "32/32 - 0s - loss: 0.3423 - 82ms/epoch - 3ms/step\n",
      "Epoch 32/100\n",
      "32/32 - 0s - loss: 0.3391 - 77ms/epoch - 2ms/step\n",
      "Epoch 33/100\n",
      "32/32 - 0s - loss: 0.3484 - 72ms/epoch - 2ms/step\n",
      "Epoch 34/100\n",
      "32/32 - 0s - loss: 0.3469 - 51ms/epoch - 2ms/step\n",
      "Epoch 35/100\n",
      "32/32 - 0s - loss: 0.3438 - 64ms/epoch - 2ms/step\n",
      "Epoch 36/100\n",
      "32/32 - 0s - loss: 0.3432 - 69ms/epoch - 2ms/step\n",
      "Epoch 37/100\n",
      "32/32 - 0s - loss: 0.3439 - 56ms/epoch - 2ms/step\n",
      "Epoch 38/100\n",
      "32/32 - 0s - loss: 0.3399 - 62ms/epoch - 2ms/step\n",
      "Epoch 39/100\n",
      "32/32 - 0s - loss: 0.3453 - 63ms/epoch - 2ms/step\n",
      "Epoch 40/100\n",
      "32/32 - 0s - loss: 0.3467 - 57ms/epoch - 2ms/step\n",
      "Epoch 41/100\n",
      "32/32 - 0s - loss: 0.3480 - 67ms/epoch - 2ms/step\n",
      "Epoch 42/100\n",
      "32/32 - 0s - loss: 0.3442 - 77ms/epoch - 2ms/step\n",
      "Epoch 43/100\n",
      "32/32 - 0s - loss: 0.3462 - 75ms/epoch - 2ms/step\n",
      "Epoch 44/100\n",
      "32/32 - 0s - loss: 0.3424 - 76ms/epoch - 2ms/step\n",
      "Epoch 45/100\n",
      "32/32 - 0s - loss: 0.3470 - 63ms/epoch - 2ms/step\n",
      "Epoch 46/100\n",
      "32/32 - 0s - loss: 0.3454 - 55ms/epoch - 2ms/step\n",
      "Epoch 47/100\n",
      "32/32 - 0s - loss: 0.3454 - 57ms/epoch - 2ms/step\n",
      "Epoch 48/100\n",
      "32/32 - 0s - loss: 0.3470 - 70ms/epoch - 2ms/step\n",
      "Epoch 49/100\n",
      "32/32 - 0s - loss: 0.3422 - 62ms/epoch - 2ms/step\n",
      "Epoch 50/100\n",
      "32/32 - 0s - loss: 0.3475 - 67ms/epoch - 2ms/step\n",
      "Epoch 51/100\n",
      "32/32 - 0s - loss: 0.3444 - 64ms/epoch - 2ms/step\n",
      "Epoch 52/100\n",
      "32/32 - 0s - loss: 0.3452 - 59ms/epoch - 2ms/step\n",
      "Epoch 53/100\n",
      "32/32 - 0s - loss: 0.3473 - 64ms/epoch - 2ms/step\n",
      "Epoch 54/100\n",
      "32/32 - 0s - loss: 0.3486 - 67ms/epoch - 2ms/step\n",
      "Epoch 55/100\n",
      "32/32 - 0s - loss: 0.3541 - 72ms/epoch - 2ms/step\n",
      "Epoch 56/100\n",
      "32/32 - 0s - loss: 0.3442 - 66ms/epoch - 2ms/step\n",
      "Epoch 57/100\n",
      "32/32 - 0s - loss: 0.3476 - 58ms/epoch - 2ms/step\n",
      "Epoch 58/100\n",
      "32/32 - 0s - loss: 0.3486 - 62ms/epoch - 2ms/step\n",
      "Epoch 59/100\n",
      "32/32 - 0s - loss: 0.3427 - 71ms/epoch - 2ms/step\n",
      "Epoch 60/100\n",
      "32/32 - 0s - loss: 0.3437 - 74ms/epoch - 2ms/step\n",
      "Epoch 61/100\n",
      "32/32 - 0s - loss: 0.3474 - 67ms/epoch - 2ms/step\n",
      "Epoch 62/100\n",
      "32/32 - 0s - loss: 0.3539 - 79ms/epoch - 2ms/step\n",
      "Epoch 63/100\n",
      "32/32 - 0s - loss: 0.3547 - 78ms/epoch - 2ms/step\n",
      "Epoch 64/100\n",
      "32/32 - 0s - loss: 0.3473 - 81ms/epoch - 3ms/step\n",
      "Epoch 65/100\n",
      "32/32 - 0s - loss: 0.3430 - 65ms/epoch - 2ms/step\n",
      "Epoch 66/100\n",
      "32/32 - 0s - loss: 0.3417 - 95ms/epoch - 3ms/step\n",
      "Epoch 67/100\n",
      "32/32 - 0s - loss: 0.3460 - 61ms/epoch - 2ms/step\n",
      "Epoch 68/100\n",
      "32/32 - 0s - loss: 0.3491 - 60ms/epoch - 2ms/step\n",
      "Epoch 69/100\n",
      "32/32 - 0s - loss: 0.3484 - 57ms/epoch - 2ms/step\n",
      "Epoch 70/100\n",
      "32/32 - 0s - loss: 0.3491 - 58ms/epoch - 2ms/step\n",
      "Epoch 71/100\n",
      "32/32 - 0s - loss: 0.3480 - 57ms/epoch - 2ms/step\n",
      "Epoch 72/100\n",
      "32/32 - 0s - loss: 0.3411 - 57ms/epoch - 2ms/step\n",
      "Epoch 73/100\n",
      "32/32 - 0s - loss: 0.3437 - 59ms/epoch - 2ms/step\n",
      "Epoch 74/100\n",
      "32/32 - 0s - loss: 0.3405 - 63ms/epoch - 2ms/step\n",
      "Epoch 75/100\n",
      "32/32 - 0s - loss: 0.3495 - 64ms/epoch - 2ms/step\n",
      "Epoch 76/100\n",
      "32/32 - 0s - loss: 0.3404 - 61ms/epoch - 2ms/step\n",
      "Epoch 77/100\n",
      "32/32 - 0s - loss: 0.3435 - 63ms/epoch - 2ms/step\n",
      "Epoch 78/100\n",
      "32/32 - 0s - loss: 0.3471 - 65ms/epoch - 2ms/step\n",
      "Epoch 79/100\n",
      "32/32 - 0s - loss: 0.3437 - 58ms/epoch - 2ms/step\n",
      "Epoch 80/100\n",
      "32/32 - 0s - loss: 0.3447 - 57ms/epoch - 2ms/step\n",
      "Epoch 81/100\n",
      "32/32 - 0s - loss: 0.3482 - 63ms/epoch - 2ms/step\n",
      "Epoch 82/100\n",
      "32/32 - 0s - loss: 0.3440 - 56ms/epoch - 2ms/step\n",
      "Epoch 83/100\n",
      "32/32 - 0s - loss: 0.3483 - 62ms/epoch - 2ms/step\n",
      "Epoch 84/100\n",
      "32/32 - 0s - loss: 0.3483 - 59ms/epoch - 2ms/step\n",
      "Epoch 85/100\n",
      "32/32 - 0s - loss: 0.3531 - 56ms/epoch - 2ms/step\n",
      "Epoch 86/100\n",
      "32/32 - 0s - loss: 0.3398 - 63ms/epoch - 2ms/step\n",
      "Epoch 87/100\n",
      "32/32 - 0s - loss: 0.3454 - 69ms/epoch - 2ms/step\n",
      "Epoch 88/100\n",
      "32/32 - 0s - loss: 0.3422 - 72ms/epoch - 2ms/step\n",
      "Epoch 89/100\n",
      "32/32 - 0s - loss: 0.3540 - 53ms/epoch - 2ms/step\n",
      "Epoch 90/100\n",
      "32/32 - 0s - loss: 0.3450 - 50ms/epoch - 2ms/step\n",
      "Epoch 91/100\n",
      "32/32 - 0s - loss: 0.3389 - 56ms/epoch - 2ms/step\n",
      "Epoch 92/100\n",
      "32/32 - 0s - loss: 0.3483 - 56ms/epoch - 2ms/step\n",
      "Epoch 93/100\n",
      "32/32 - 0s - loss: 0.3499 - 53ms/epoch - 2ms/step\n",
      "Epoch 94/100\n",
      "32/32 - 0s - loss: 0.3494 - 53ms/epoch - 2ms/step\n",
      "Epoch 95/100\n",
      "32/32 - 0s - loss: 0.3477 - 55ms/epoch - 2ms/step\n",
      "Epoch 96/100\n",
      "32/32 - 0s - loss: 0.3486 - 68ms/epoch - 2ms/step\n",
      "Epoch 97/100\n",
      "32/32 - 0s - loss: 0.3490 - 67ms/epoch - 2ms/step\n",
      "Epoch 98/100\n",
      "32/32 - 0s - loss: 0.3484 - 61ms/epoch - 2ms/step\n",
      "Epoch 99/100\n",
      "32/32 - 0s - loss: 0.3503 - 66ms/epoch - 2ms/step\n",
      "Epoch 100/100\n",
      "32/32 - 0s - loss: 0.3487 - 74ms/epoch - 2ms/step\n"
     ]
    },
    {
     "data": {
      "text/plain": [
       "<keras.callbacks.History at 0x270d3d80b50>"
      ]
     },
     "execution_count": 5,
     "metadata": {},
     "output_type": "execute_result"
    }
   ],
   "source": [
    "input_size = 2\n",
    "output_size = 1\n",
    "\n",
    "model = tf.keras.Sequential([# functions that specifies how the model will be laid down ('stacked layers')\n",
    "                            tf.keras.layers.Dense(output_size, # functions that takes the inputs provided into the model and calculates the dot product of the inputs and weights and add bias, analogus to y = m*x + b where we multiply m and x using dot product\n",
    "                                                        kernel_initializer=tf.random_uniform_initializer(minval=-0.1, maxval=0.1),\n",
    "\t\t\t\t\t\t\t\t\t\t\t\t\t\tbias_initializer=tf.random_uniform_initializer(minval=-0.1, maxval=0.1))\n",
    "                            ]) \n",
    "\n",
    "model.compile(optimizer='sgd', loss='mean_squared_error') # configures the model for training, SGD stands for stochastic gradient descent and mean_squared error is L2-norm loss function\n",
    "\n",
    "model.fit(training_data['inputs'], training_data['targets'], epochs=100, verbose=2) # fit the model, where epochs = number of iterations"
   ]
  },
  {
   "cell_type": "markdown",
   "metadata": {},
   "source": [
    "## Extract the weights and bias"
   ]
  },
  {
   "cell_type": "code",
   "execution_count": 6,
   "metadata": {
    "tags": []
   },
   "outputs": [
    {
     "data": {
      "text/plain": [
       "[array([[ 2.0453994],\n",
       "        [-2.9883964]], dtype=float32),\n",
       " array([5.0274286], dtype=float32)]"
      ]
     },
     "execution_count": 6,
     "metadata": {},
     "output_type": "execute_result"
    }
   ],
   "source": [
    "model.layers[0].get_weights() # Extracting the weights and bias"
   ]
  },
  {
   "cell_type": "code",
   "execution_count": 7,
   "metadata": {
    "tags": []
   },
   "outputs": [],
   "source": [
    "# Assigning weights\n",
    "\n",
    "weights = model.layers[0].get_weights()[0]\n",
    "\n",
    "# Assigning bias\n",
    "\n",
    "bias = model.layers[0].get_weights()[1]"
   ]
  },
  {
   "cell_type": "markdown",
   "metadata": {},
   "source": [
    "## Extract outputs (make predictions)"
   ]
  },
  {
   "cell_type": "code",
   "execution_count": 8,
   "metadata": {
    "tags": []
   },
   "outputs": [
    {
     "name": "stdout",
     "output_type": "stream",
     "text": [
      "[[ 19.45]\n",
      " [  3.9 ]\n",
      " [ -1.32]\n",
      " [ -6.29]\n",
      " [  6.05]\n",
      " [-21.22]\n",
      " [ 18.44]\n",
      " [ 24.56]\n",
      " [ 15.51]\n",
      " [-24.1 ]]\n"
     ]
    }
   ],
   "source": [
    "prediction = model.predict_on_batch(training_data['inputs']) # Calculates the outputs with the given inputs (on the model earlier that compares with the loss function)\n",
    "# Each of the values in the array corresponds to the targets to evaluate the loss function (after 100 epochs)\n",
    "\n",
    "print(prediction[:10].round(2))"
   ]
  },
  {
   "cell_type": "code",
   "execution_count": 9,
   "metadata": {
    "tags": []
   },
   "outputs": [
    {
     "name": "stdout",
     "output_type": "stream",
     "text": [
      "[[ 18.26]\n",
      " [  3.16]\n",
      " [ -1.39]\n",
      " [ -5.92]\n",
      " [  6.34]\n",
      " [-21.53]\n",
      " [ 18.53]\n",
      " [ 23.51]\n",
      " [ 15.71]\n",
      " [-24.25]]\n"
     ]
    }
   ],
   "source": [
    "# If compare the predicted outputs to the actual targets, here is some of the ways we can do\n",
    "\n",
    "print(training_data['targets'][:10].round(2))"
   ]
  },
  {
   "cell_type": "markdown",
   "metadata": {},
   "source": [
    "## Plotting the data"
   ]
  },
  {
   "cell_type": "code",
   "execution_count": 10,
   "metadata": {
    "tags": []
   },
   "outputs": [
    {
     "data": {
      "image/png": "[encoded data removed]",
      "text/plain": [
       "<Figure size 432x288 with 1 Axes>"
      ]
     },
     "metadata": {
      "needs_background": "light"
     },
     "output_type": "display_data"
    }
   ],
   "source": [
    "# The line should be as close to 45 degrees possible\n",
    "\n",
    "plt.plot(np.squeeze(prediction), np.squeeze(training_data['targets']))\n",
    "plt.xlabel('predict')\n",
    "plt.ylabel('target')\n",
    "plt.axis('equal')\n",
    "plt.show()"
   ]
  },
  {
   "cell_type": "markdown",
   "metadata": {
    "tags": []
   },
   "source": [
    "# 1. Change the number of observations to 100,000 and see what happens."
   ]
  },
  {
   "cell_type": "markdown",
   "metadata": {},
   "source": [
    "## Data generation"
   ]
  },
  {
   "cell_type": "code",
   "execution_count": 2,
   "metadata": {
    "tags": []
   },
   "outputs": [],
   "source": [
    "observations = 100000\n",
    "\n",
    "xs = np.random.uniform(low=-10, high=10, size=(observations,1))\n",
    "zs = np.random.uniform(-10, 10, (observations,1))\n",
    "\n",
    "generated_inputs = np.column_stack((xs,zs))\n",
    "\n",
    "noise = np.random.uniform(-1, 1, (observations,1))\n",
    "\n",
    "generated_targets = 2*xs - 3*zs + 5 + noise\n",
    "\n",
    "np.savez('TF_intro', inputs=generated_inputs, targets=generated_targets)\n"
   ]
  },
  {
   "cell_type": "markdown",
   "metadata": {},
   "source": [
    "## Solving with TensorFlow"
   ]
  },
  {
   "cell_type": "code",
   "execution_count": 3,
   "metadata": {
    "tags": []
   },
   "outputs": [],
   "source": [
    "training_data = np.load('TF_intro.npz')"
   ]
  },
  {
   "cell_type": "code",
   "execution_count": 4,
   "metadata": {
    "tags": []
   },
   "outputs": [
    {
     "name": "stdout",
     "output_type": "stream",
     "text": [
      "Epoch 1/100\n",
      "3125/3125 - 6s - loss: 0.7159 - 6s/epoch - 2ms/step\n",
      "Epoch 2/100\n",
      "3125/3125 - 5s - loss: 0.3441 - 5s/epoch - 2ms/step\n",
      "Epoch 3/100\n",
      "3125/3125 - 5s - loss: 0.3436 - 5s/epoch - 2ms/step\n",
      "Epoch 4/100\n",
      "3125/3125 - 5s - loss: 0.3442 - 5s/epoch - 1ms/step\n",
      "Epoch 5/100\n",
      "3125/3125 - 5s - loss: 0.3437 - 5s/epoch - 2ms/step\n",
      "Epoch 6/100\n",
      "3125/3125 - 5s - loss: 0.3436 - 5s/epoch - 2ms/step\n",
      "Epoch 7/100\n",
      "3125/3125 - 5s - loss: 0.3439 - 5s/epoch - 2ms/step\n",
      "Epoch 8/100\n",
      "3125/3125 - 5s - loss: 0.3437 - 5s/epoch - 1ms/step\n",
      "Epoch 9/100\n",
      "3125/3125 - 5s - loss: 0.3438 - 5s/epoch - 2ms/step\n",
      "Epoch 10/100\n",
      "3125/3125 - 5s - loss: 0.3443 - 5s/epoch - 2ms/step\n",
      "Epoch 11/100\n",
      "3125/3125 - 4s - loss: 0.3435 - 4s/epoch - 1ms/step\n",
      "Epoch 12/100\n",
      "3125/3125 - 4s - loss: 0.3438 - 4s/epoch - 1ms/step\n",
      "Epoch 13/100\n",
      "3125/3125 - 5s - loss: 0.3430 - 5s/epoch - 2ms/step\n",
      "Epoch 14/100\n",
      "3125/3125 - 5s - loss: 0.3426 - 5s/epoch - 1ms/step\n",
      "Epoch 15/100\n",
      "3125/3125 - 5s - loss: 0.3438 - 5s/epoch - 1ms/step\n",
      "Epoch 16/100\n",
      "3125/3125 - 5s - loss: 0.3439 - 5s/epoch - 2ms/step\n",
      "Epoch 17/100\n",
      "3125/3125 - 5s - loss: 0.3438 - 5s/epoch - 2ms/step\n",
      "Epoch 18/100\n",
      "3125/3125 - 5s - loss: 0.3442 - 5s/epoch - 1ms/step\n",
      "Epoch 19/100\n",
      "3125/3125 - 5s - loss: 0.3433 - 5s/epoch - 2ms/step\n",
      "Epoch 20/100\n",
      "3125/3125 - 5s - loss: 0.3433 - 5s/epoch - 2ms/step\n",
      "Epoch 21/100\n",
      "3125/3125 - 5s - loss: 0.3439 - 5s/epoch - 1ms/step\n",
      "Epoch 22/100\n",
      "3125/3125 - 5s - loss: 0.3435 - 5s/epoch - 2ms/step\n",
      "Epoch 23/100\n",
      "3125/3125 - 5s - loss: 0.3434 - 5s/epoch - 2ms/step\n",
      "Epoch 24/100\n",
      "3125/3125 - 5s - loss: 0.3436 - 5s/epoch - 1ms/step\n",
      "Epoch 25/100\n",
      "3125/3125 - 4s - loss: 0.3439 - 4s/epoch - 1ms/step\n",
      "Epoch 26/100\n",
      "3125/3125 - 5s - loss: 0.3435 - 5s/epoch - 2ms/step\n",
      "Epoch 27/100\n",
      "3125/3125 - 5s - loss: 0.3439 - 5s/epoch - 2ms/step\n",
      "Epoch 28/100\n",
      "3125/3125 - 5s - loss: 0.3438 - 5s/epoch - 2ms/step\n",
      "Epoch 29/100\n",
      "3125/3125 - 5s - loss: 0.3440 - 5s/epoch - 2ms/step\n",
      "Epoch 30/100\n",
      "3125/3125 - 5s - loss: 0.3445 - 5s/epoch - 2ms/step\n",
      "Epoch 31/100\n",
      "3125/3125 - 4s - loss: 0.3442 - 4s/epoch - 1ms/step\n",
      "Epoch 32/100\n",
      "3125/3125 - 4s - loss: 0.3437 - 4s/epoch - 1ms/step\n",
      "Epoch 33/100\n",
      "3125/3125 - 5s - loss: 0.3442 - 5s/epoch - 2ms/step\n",
      "Epoch 34/100\n",
      "3125/3125 - 5s - loss: 0.3436 - 5s/epoch - 1ms/step\n",
      "Epoch 35/100\n",
      "3125/3125 - 5s - loss: 0.3433 - 5s/epoch - 1ms/step\n",
      "Epoch 36/100\n",
      "3125/3125 - 5s - loss: 0.3435 - 5s/epoch - 2ms/step\n",
      "Epoch 37/100\n",
      "3125/3125 - 5s - loss: 0.3435 - 5s/epoch - 2ms/step\n",
      "Epoch 38/100\n",
      "3125/3125 - 4s - loss: 0.3433 - 4s/epoch - 1ms/step\n",
      "Epoch 39/100\n",
      "3125/3125 - 5s - loss: 0.3437 - 5s/epoch - 1ms/step\n",
      "Epoch 40/100\n",
      "3125/3125 - 5s - loss: 0.3435 - 5s/epoch - 2ms/step\n",
      "Epoch 41/100\n",
      "3125/3125 - 5s - loss: 0.3437 - 5s/epoch - 1ms/step\n",
      "Epoch 42/100\n",
      "3125/3125 - 5s - loss: 0.3437 - 5s/epoch - 1ms/step\n",
      "Epoch 43/100\n",
      "3125/3125 - 5s - loss: 0.3443 - 5s/epoch - 2ms/step\n",
      "Epoch 44/100\n",
      "3125/3125 - 5s - loss: 0.3438 - 5s/epoch - 1ms/step\n",
      "Epoch 45/100\n",
      "3125/3125 - 5s - loss: 0.3439 - 5s/epoch - 1ms/step\n",
      "Epoch 46/100\n",
      "3125/3125 - 5s - loss: 0.3443 - 5s/epoch - 1ms/step\n",
      "Epoch 47/100\n",
      "3125/3125 - 5s - loss: 0.3437 - 5s/epoch - 2ms/step\n",
      "Epoch 48/100\n",
      "3125/3125 - 5s - loss: 0.3444 - 5s/epoch - 1ms/step\n",
      "Epoch 49/100\n",
      "3125/3125 - 5s - loss: 0.3436 - 5s/epoch - 1ms/step\n",
      "Epoch 50/100\n",
      "3125/3125 - 5s - loss: 0.3437 - 5s/epoch - 2ms/step\n",
      "Epoch 51/100\n",
      "3125/3125 - 5s - loss: 0.3437 - 5s/epoch - 2ms/step\n",
      "Epoch 52/100\n",
      "3125/3125 - 5s - loss: 0.3435 - 5s/epoch - 2ms/step\n",
      "Epoch 53/100\n",
      "3125/3125 - 5s - loss: 0.3434 - 5s/epoch - 2ms/step\n",
      "Epoch 54/100\n",
      "3125/3125 - 5s - loss: 0.3436 - 5s/epoch - 1ms/step\n",
      "Epoch 55/100\n",
      "3125/3125 - 5s - loss: 0.3439 - 5s/epoch - 1ms/step\n",
      "Epoch 56/100\n",
      "3125/3125 - 5s - loss: 0.3440 - 5s/epoch - 2ms/step\n",
      "Epoch 57/100\n",
      "3125/3125 - 5s - loss: 0.3438 - 5s/epoch - 2ms/step\n",
      "Epoch 58/100\n",
      "3125/3125 - 4s - loss: 0.3441 - 4s/epoch - 1ms/step\n",
      "Epoch 59/100\n",
      "3125/3125 - 4s - loss: 0.3438 - 4s/epoch - 1ms/step\n",
      "Epoch 60/100\n",
      "3125/3125 - 5s - loss: 0.3440 - 5s/epoch - 2ms/step\n",
      "Epoch 61/100\n",
      "3125/3125 - 4s - loss: 0.3441 - 4s/epoch - 1ms/step\n",
      "Epoch 62/100\n",
      "3125/3125 - 4s - loss: 0.3441 - 4s/epoch - 1ms/step\n",
      "Epoch 63/100\n",
      "3125/3125 - 5s - loss: 0.3436 - 5s/epoch - 2ms/step\n",
      "Epoch 64/100\n",
      "3125/3125 - 5s - loss: 0.3440 - 5s/epoch - 2ms/step\n",
      "Epoch 65/100\n",
      "3125/3125 - 5s - loss: 0.3443 - 5s/epoch - 1ms/step\n",
      "Epoch 66/100\n",
      "3125/3125 - 5s - loss: 0.3436 - 5s/epoch - 2ms/step\n",
      "Epoch 67/100\n",
      "3125/3125 - 5s - loss: 0.3435 - 5s/epoch - 2ms/step\n",
      "Epoch 68/100\n",
      "3125/3125 - 4s - loss: 0.3439 - 4s/epoch - 1ms/step\n",
      "Epoch 69/100\n",
      "3125/3125 - 5s - loss: 0.3437 - 5s/epoch - 1ms/step\n",
      "Epoch 70/100\n",
      "3125/3125 - 5s - loss: 0.3433 - 5s/epoch - 2ms/step\n",
      "Epoch 71/100\n",
      "3125/3125 - 5s - loss: 0.3443 - 5s/epoch - 1ms/step\n",
      "Epoch 72/100\n",
      "3125/3125 - 4s - loss: 0.3440 - 4s/epoch - 1ms/step\n",
      "Epoch 73/100\n",
      "3125/3125 - 5s - loss: 0.3435 - 5s/epoch - 2ms/step\n",
      "Epoch 74/100\n",
      "3125/3125 - 5s - loss: 0.3438 - 5s/epoch - 2ms/step\n",
      "Epoch 75/100\n",
      "3125/3125 - 4s - loss: 0.3436 - 4s/epoch - 1ms/step\n",
      "Epoch 76/100\n",
      "3125/3125 - 4s - loss: 0.3436 - 4s/epoch - 1ms/step\n",
      "Epoch 77/100\n",
      "3125/3125 - 5s - loss: 0.3433 - 5s/epoch - 2ms/step\n",
      "Epoch 78/100\n",
      "3125/3125 - 5s - loss: 0.3436 - 5s/epoch - 1ms/step\n",
      "Epoch 79/100\n",
      "3125/3125 - 4s - loss: 0.3437 - 4s/epoch - 1ms/step\n",
      "Epoch 80/100\n",
      "3125/3125 - 5s - loss: 0.3437 - 5s/epoch - 2ms/step\n",
      "Epoch 81/100\n",
      "3125/3125 - 5s - loss: 0.3442 - 5s/epoch - 2ms/step\n",
      "Epoch 82/100\n",
      "3125/3125 - 4s - loss: 0.3442 - 4s/epoch - 1ms/step\n",
      "Epoch 83/100\n",
      "3125/3125 - 4s - loss: 0.3443 - 4s/epoch - 1ms/step\n",
      "Epoch 84/100\n",
      "3125/3125 - 5s - loss: 0.3440 - 5s/epoch - 1ms/step\n",
      "Epoch 85/100\n",
      "3125/3125 - 4s - loss: 0.3440 - 4s/epoch - 1ms/step\n",
      "Epoch 86/100\n",
      "3125/3125 - 5s - loss: 0.3433 - 5s/epoch - 1ms/step\n",
      "Epoch 87/100\n",
      "3125/3125 - 5s - loss: 0.3434 - 5s/epoch - 2ms/step\n",
      "Epoch 88/100\n",
      "3125/3125 - 5s - loss: 0.3437 - 5s/epoch - 2ms/step\n",
      "Epoch 89/100\n",
      "3125/3125 - 4s - loss: 0.3435 - 4s/epoch - 1ms/step\n",
      "Epoch 90/100\n",
      "3125/3125 - 5s - loss: 0.3440 - 5s/epoch - 1ms/step\n",
      "Epoch 91/100\n",
      "3125/3125 - 5s - loss: 0.3433 - 5s/epoch - 2ms/step\n",
      "Epoch 92/100\n",
      "3125/3125 - 5s - loss: 0.3437 - 5s/epoch - 2ms/step\n",
      "Epoch 93/100\n",
      "3125/3125 - 5s - loss: 0.3436 - 5s/epoch - 1ms/step\n",
      "Epoch 94/100\n",
      "3125/3125 - 5s - loss: 0.3434 - 5s/epoch - 2ms/step\n",
      "Epoch 95/100\n",
      "3125/3125 - 5s - loss: 0.3437 - 5s/epoch - 2ms/step\n",
      "Epoch 96/100\n",
      "3125/3125 - 5s - loss: 0.3438 - 5s/epoch - 2ms/step\n",
      "Epoch 97/100\n",
      "3125/3125 - 5s - loss: 0.3438 - 5s/epoch - 2ms/step\n",
      "Epoch 98/100\n",
      "3125/3125 - 5s - loss: 0.3439 - 5s/epoch - 2ms/step\n",
      "Epoch 99/100\n",
      "3125/3125 - 5s - loss: 0.3442 - 5s/epoch - 1ms/step\n",
      "Epoch 100/100\n",
      "3125/3125 - 5s - loss: 0.3436 - 5s/epoch - 2ms/step\n"
     ]
    },
    {
     "data": {
      "text/plain": [
       "<keras.callbacks.History at 0x2d83021cf70>"
      ]
     },
     "execution_count": 4,
     "metadata": {},
     "output_type": "execute_result"
    }
   ],
   "source": [
    "input_size = 2\n",
    "output_size = 1\n",
    "\n",
    "model = tf.keras.Sequential([# functions that specifies how the model will be laid down ('stacked layers')\n",
    "                            tf.keras.layers.Dense(output_size, # functions that takes the inputs provided into the model and calculates the dot product of the inputs and weights and add bias, analogus to y = m*x + b where we multiply m and x using dot product\n",
    "                                                        kernel_initializer=tf.random_uniform_initializer(minval=-0.1, maxval=0.1),\n",
    "\t\t\t\t\t\t\t\t\t\t\t\t\t\tbias_initializer=tf.random_uniform_initializer(minval=-0.1, maxval=0.1))\n",
    "                            ]) \n",
    "\n",
    "model.compile(optimizer='sgd', loss='mean_squared_error') # configures the model for training, SGD stands for stochastic gradient descent and mean_squared error is L2-norm loss function\n",
    "\n",
    "model.fit(training_data['inputs'], training_data['targets'], epochs=100, verbose=2) # fit the model, where epochs = number of iterations"
   ]
  },
  {
   "cell_type": "markdown",
   "metadata": {},
   "source": [
    "## Extract the weights and bias"
   ]
  },
  {
   "cell_type": "code",
   "execution_count": 5,
   "metadata": {
    "tags": []
   },
   "outputs": [
    {
     "data": {
      "text/plain": [
       "[array([[ 2.0061429],\n",
       "        [-3.0009224]], dtype=float32),\n",
       " array([4.986544], dtype=float32)]"
      ]
     },
     "execution_count": 5,
     "metadata": {},
     "output_type": "execute_result"
    }
   ],
   "source": [
    "model.layers[0].get_weights() # Extracting the weights and bias\n",
    "\n",
    "# the linear model equation: 2*xs - 3*zs + 5 + noise\n",
    "# Both weights and bias converged"
   ]
  },
  {
   "cell_type": "code",
   "execution_count": 6,
   "metadata": {
    "tags": []
   },
   "outputs": [],
   "source": [
    "# Assigning weights\n",
    "\n",
    "weights = model.layers[0].get_weights()[0]\n",
    "\n",
    "# Assigning bias\n",
    "\n",
    "bias = model.layers[0].get_weights()[1]"
   ]
  },
  {
   "cell_type": "markdown",
   "metadata": {},
   "source": [
    "## Extract outputs (make predictions)"
   ]
  },
  {
   "cell_type": "code",
   "execution_count": 7,
   "metadata": {
    "tags": []
   },
   "outputs": [
    {
     "name": "stdout",
     "output_type": "stream",
     "text": [
      "[[12.26]\n",
      " [34.24]\n",
      " [11.26]\n",
      " [-3.05]\n",
      " [33.71]\n",
      " [26.75]\n",
      " [ 5.89]\n",
      " [-3.04]\n",
      " [ 9.01]\n",
      " [-7.71]]\n"
     ]
    }
   ],
   "source": [
    "prediction = model.predict_on_batch(training_data['inputs']) # Calculates the outputs with the given inputs (on the model earlier that compares with the loss function)\n",
    "# Each of the values in the array corresponds to the targets to evaluate the loss function (after 100 epochs)\n",
    "\n",
    "print(prediction[:10].round(2))"
   ]
  },
  {
   "cell_type": "code",
   "execution_count": 8,
   "metadata": {
    "tags": []
   },
   "outputs": [
    {
     "name": "stdout",
     "output_type": "stream",
     "text": [
      "[[13.23]\n",
      " [33.59]\n",
      " [10.35]\n",
      " [-3.93]\n",
      " [33.19]\n",
      " [26.19]\n",
      " [ 5.81]\n",
      " [-3.03]\n",
      " [ 9.38]\n",
      " [-8.27]]\n"
     ]
    }
   ],
   "source": [
    "# If compare the predicted outputs to the actual targets, here is some of the ways we can do\n",
    "\n",
    "print(training_data['targets'][:10].round(2))"
   ]
  },
  {
   "cell_type": "markdown",
   "metadata": {},
   "source": [
    "## Plotting the data"
   ]
  },
  {
   "cell_type": "code",
   "execution_count": 9,
   "metadata": {
    "tags": []
   },
   "outputs": [
    {
     "data": {
      "image/png": "[encoded data removed]",
      "text/plain": [
       "<Figure size 432x288 with 1 Axes>"
      ]
     },
     "metadata": {
      "needs_background": "light"
     },
     "output_type": "display_data"
    }
   ],
   "source": [
    "# The line should be as close to 45 degrees possible\n",
    "\n",
    "plt.plot(np.squeeze(prediction), np.squeeze(training_data['targets']))\n",
    "plt.xlabel('predict')\n",
    "plt.ylabel('target')\n",
    "plt.axis('equal') # Set equal scaling for both axis\n",
    "plt.show()"
   ]
  },
  {
   "cell_type": "raw",
   "metadata": {},
   "source": [
    "Here are some takeaways:\n",
    "\n",
    "1. It takes the algorithm more time to solve the problem.\n",
    "2. The result is the same as the loss was scaled (the mean_squared_loss, so the average L2-norm).\n",
    "3. The loss starts oscillating at some point at higher epochs\n",
    "4. matplotlib may not be able to plot the data, as there are too many points (as evidently seen that it is not 45 degrees)"
   ]
  },
  {
   "cell_type": "markdown",
   "metadata": {},
   "source": [
    "# 2. Play around with the learning rate. Values like 0.0001, 0.001, 0.1, 1 are all interesting to observe."
   ]
  },
  {
   "cell_type": "markdown",
   "metadata": {},
   "source": [
    "## Data generation"
   ]
  },
  {
   "cell_type": "code",
   "execution_count": 2,
   "metadata": {
    "tags": []
   },
   "outputs": [],
   "source": [
    "observations = 1000\n",
    "\n",
    "xs = np.random.uniform(low=-10, high=10, size=(observations,1))\n",
    "zs = np.random.uniform(-10, 10, (observations,1))\n",
    "\n",
    "generated_inputs = np.column_stack((xs,zs))\n",
    "\n",
    "noise = np.random.uniform(-1, 1, (observations,1))\n",
    "\n",
    "generated_targets = 2*xs - 3*zs + 5 + noise\n",
    "\n",
    "np.savez('TF_intro', inputs=generated_inputs, targets=generated_targets)\n"
   ]
  },
  {
   "cell_type": "markdown",
   "metadata": {},
   "source": [
    "## Solving with TensorFlow"
   ]
  },
  {
   "cell_type": "code",
   "execution_count": 3,
   "metadata": {
    "tags": []
   },
   "outputs": [],
   "source": [
    "training_data = np.load('TF_intro.npz')"
   ]
  },
  {
   "cell_type": "code",
   "execution_count": 4,
   "metadata": {
    "tags": []
   },
   "outputs": [
    {
     "name": "stdout",
     "output_type": "stream",
     "text": [
      "Epoch 1/100\n",
      "32/32 - 1s - loss: inf - 850ms/epoch - 27ms/step\n",
      "Epoch 2/100\n",
      "32/32 - 0s - loss: nan - 55ms/epoch - 2ms/step\n",
      "Epoch 3/100\n",
      "32/32 - 0s - loss: nan - 58ms/epoch - 2ms/step\n",
      "Epoch 4/100\n",
      "32/32 - 0s - loss: nan - 85ms/epoch - 3ms/step\n",
      "Epoch 5/100\n",
      "32/32 - 0s - loss: nan - 82ms/epoch - 3ms/step\n",
      "Epoch 6/100\n",
      "32/32 - 0s - loss: nan - 97ms/epoch - 3ms/step\n",
      "Epoch 7/100\n",
      "32/32 - 0s - loss: nan - 86ms/epoch - 3ms/step\n",
      "Epoch 8/100\n",
      "32/32 - 0s - loss: nan - 90ms/epoch - 3ms/step\n",
      "Epoch 9/100\n",
      "32/32 - 0s - loss: nan - 91ms/epoch - 3ms/step\n",
      "Epoch 10/100\n",
      "32/32 - 0s - loss: nan - 90ms/epoch - 3ms/step\n",
      "Epoch 11/100\n",
      "32/32 - 0s - loss: nan - 93ms/epoch - 3ms/step\n",
      "Epoch 12/100\n",
      "32/32 - 0s - loss: nan - 83ms/epoch - 3ms/step\n",
      "Epoch 13/100\n",
      "32/32 - 0s - loss: nan - 80ms/epoch - 3ms/step\n",
      "Epoch 14/100\n",
      "32/32 - 0s - loss: nan - 82ms/epoch - 3ms/step\n",
      "Epoch 15/100\n",
      "32/32 - 0s - loss: nan - 89ms/epoch - 3ms/step\n",
      "Epoch 16/100\n",
      "32/32 - 0s - loss: nan - 90ms/epoch - 3ms/step\n",
      "Epoch 17/100\n",
      "32/32 - 0s - loss: nan - 88ms/epoch - 3ms/step\n",
      "Epoch 18/100\n",
      "32/32 - 0s - loss: nan - 84ms/epoch - 3ms/step\n",
      "Epoch 19/100\n",
      "32/32 - 0s - loss: nan - 64ms/epoch - 2ms/step\n",
      "Epoch 20/100\n",
      "32/32 - 0s - loss: nan - 72ms/epoch - 2ms/step\n",
      "Epoch 21/100\n",
      "32/32 - 0s - loss: nan - 77ms/epoch - 2ms/step\n",
      "Epoch 22/100\n",
      "32/32 - 0s - loss: nan - 82ms/epoch - 3ms/step\n",
      "Epoch 23/100\n",
      "32/32 - 0s - loss: nan - 64ms/epoch - 2ms/step\n",
      "Epoch 24/100\n",
      "32/32 - 0s - loss: nan - 63ms/epoch - 2ms/step\n",
      "Epoch 25/100\n",
      "32/32 - 0s - loss: nan - 123ms/epoch - 4ms/step\n",
      "Epoch 26/100\n",
      "32/32 - 0s - loss: nan - 74ms/epoch - 2ms/step\n",
      "Epoch 27/100\n",
      "32/32 - 0s - loss: nan - 76ms/epoch - 2ms/step\n",
      "Epoch 28/100\n",
      "32/32 - 0s - loss: nan - 104ms/epoch - 3ms/step\n",
      "Epoch 29/100\n",
      "32/32 - 0s - loss: nan - 120ms/epoch - 4ms/step\n",
      "Epoch 30/100\n",
      "32/32 - 0s - loss: nan - 108ms/epoch - 3ms/step\n",
      "Epoch 31/100\n",
      "32/32 - 0s - loss: nan - 107ms/epoch - 3ms/step\n",
      "Epoch 32/100\n",
      "32/32 - 0s - loss: nan - 129ms/epoch - 4ms/step\n",
      "Epoch 33/100\n",
      "32/32 - 0s - loss: nan - 71ms/epoch - 2ms/step\n",
      "Epoch 34/100\n",
      "32/32 - 0s - loss: nan - 104ms/epoch - 3ms/step\n",
      "Epoch 35/100\n",
      "32/32 - 0s - loss: nan - 66ms/epoch - 2ms/step\n",
      "Epoch 36/100\n",
      "32/32 - 0s - loss: nan - 71ms/epoch - 2ms/step\n",
      "Epoch 37/100\n",
      "32/32 - 0s - loss: nan - 56ms/epoch - 2ms/step\n",
      "Epoch 38/100\n",
      "32/32 - 0s - loss: nan - 57ms/epoch - 2ms/step\n",
      "Epoch 39/100\n",
      "32/32 - 0s - loss: nan - 52ms/epoch - 2ms/step\n",
      "Epoch 40/100\n",
      "32/32 - 0s - loss: nan - 64ms/epoch - 2ms/step\n",
      "Epoch 41/100\n",
      "32/32 - 0s - loss: nan - 60ms/epoch - 2ms/step\n",
      "Epoch 42/100\n",
      "32/32 - 0s - loss: nan - 67ms/epoch - 2ms/step\n",
      "Epoch 43/100\n",
      "32/32 - 0s - loss: nan - 69ms/epoch - 2ms/step\n",
      "Epoch 44/100\n",
      "32/32 - 0s - loss: nan - 65ms/epoch - 2ms/step\n",
      "Epoch 45/100\n",
      "32/32 - 0s - loss: nan - 68ms/epoch - 2ms/step\n",
      "Epoch 46/100\n",
      "32/32 - 0s - loss: nan - 73ms/epoch - 2ms/step\n",
      "Epoch 47/100\n",
      "32/32 - 0s - loss: nan - 66ms/epoch - 2ms/step\n",
      "Epoch 48/100\n",
      "32/32 - 0s - loss: nan - 67ms/epoch - 2ms/step\n",
      "Epoch 49/100\n",
      "32/32 - 0s - loss: nan - 63ms/epoch - 2ms/step\n",
      "Epoch 50/100\n",
      "32/32 - 0s - loss: nan - 79ms/epoch - 2ms/step\n",
      "Epoch 51/100\n",
      "32/32 - 0s - loss: nan - 70ms/epoch - 2ms/step\n",
      "Epoch 52/100\n",
      "32/32 - 0s - loss: nan - 56ms/epoch - 2ms/step\n",
      "Epoch 53/100\n",
      "32/32 - 0s - loss: nan - 69ms/epoch - 2ms/step\n",
      "Epoch 54/100\n",
      "32/32 - 0s - loss: nan - 70ms/epoch - 2ms/step\n",
      "Epoch 55/100\n",
      "32/32 - 0s - loss: nan - 62ms/epoch - 2ms/step\n",
      "Epoch 56/100\n",
      "32/32 - 0s - loss: nan - 76ms/epoch - 2ms/step\n",
      "Epoch 57/100\n",
      "32/32 - 0s - loss: nan - 79ms/epoch - 2ms/step\n",
      "Epoch 58/100\n",
      "32/32 - 0s - loss: nan - 70ms/epoch - 2ms/step\n",
      "Epoch 59/100\n",
      "32/32 - 0s - loss: nan - 69ms/epoch - 2ms/step\n",
      "Epoch 60/100\n",
      "32/32 - 0s - loss: nan - 56ms/epoch - 2ms/step\n",
      "Epoch 61/100\n",
      "32/32 - 0s - loss: nan - 76ms/epoch - 2ms/step\n",
      "Epoch 62/100\n",
      "32/32 - 0s - loss: nan - 68ms/epoch - 2ms/step\n",
      "Epoch 63/100\n",
      "32/32 - 0s - loss: nan - 68ms/epoch - 2ms/step\n",
      "Epoch 64/100\n",
      "32/32 - 0s - loss: nan - 58ms/epoch - 2ms/step\n",
      "Epoch 65/100\n",
      "32/32 - 0s - loss: nan - 63ms/epoch - 2ms/step\n",
      "Epoch 66/100\n",
      "32/32 - 0s - loss: nan - 63ms/epoch - 2ms/step\n",
      "Epoch 67/100\n",
      "32/32 - 0s - loss: nan - 63ms/epoch - 2ms/step\n",
      "Epoch 68/100\n",
      "32/32 - 0s - loss: nan - 61ms/epoch - 2ms/step\n",
      "Epoch 69/100\n",
      "32/32 - 0s - loss: nan - 61ms/epoch - 2ms/step\n",
      "Epoch 70/100\n",
      "32/32 - 0s - loss: nan - 56ms/epoch - 2ms/step\n",
      "Epoch 71/100\n",
      "32/32 - 0s - loss: nan - 64ms/epoch - 2ms/step\n",
      "Epoch 72/100\n",
      "32/32 - 0s - loss: nan - 70ms/epoch - 2ms/step\n",
      "Epoch 73/100\n",
      "32/32 - 0s - loss: nan - 63ms/epoch - 2ms/step\n",
      "Epoch 74/100\n",
      "32/32 - 0s - loss: nan - 64ms/epoch - 2ms/step\n",
      "Epoch 75/100\n",
      "32/32 - 0s - loss: nan - 64ms/epoch - 2ms/step\n",
      "Epoch 76/100\n",
      "32/32 - 0s - loss: nan - 75ms/epoch - 2ms/step\n",
      "Epoch 77/100\n",
      "32/32 - 0s - loss: nan - 63ms/epoch - 2ms/step\n",
      "Epoch 78/100\n",
      "32/32 - 0s - loss: nan - 67ms/epoch - 2ms/step\n",
      "Epoch 79/100\n",
      "32/32 - 0s - loss: nan - 78ms/epoch - 2ms/step\n",
      "Epoch 80/100\n",
      "32/32 - 0s - loss: nan - 71ms/epoch - 2ms/step\n",
      "Epoch 81/100\n",
      "32/32 - 0s - loss: nan - 61ms/epoch - 2ms/step\n",
      "Epoch 82/100\n",
      "32/32 - 0s - loss: nan - 66ms/epoch - 2ms/step\n",
      "Epoch 83/100\n",
      "32/32 - 0s - loss: nan - 69ms/epoch - 2ms/step\n",
      "Epoch 84/100\n",
      "32/32 - 0s - loss: nan - 71ms/epoch - 2ms/step\n",
      "Epoch 85/100\n",
      "32/32 - 0s - loss: nan - 68ms/epoch - 2ms/step\n",
      "Epoch 86/100\n",
      "32/32 - 0s - loss: nan - 66ms/epoch - 2ms/step\n",
      "Epoch 87/100\n",
      "32/32 - 0s - loss: nan - 65ms/epoch - 2ms/step\n",
      "Epoch 88/100\n",
      "32/32 - 0s - loss: nan - 69ms/epoch - 2ms/step\n",
      "Epoch 89/100\n",
      "32/32 - 0s - loss: nan - 70ms/epoch - 2ms/step\n",
      "Epoch 90/100\n",
      "32/32 - 0s - loss: nan - 64ms/epoch - 2ms/step\n",
      "Epoch 91/100\n",
      "32/32 - 0s - loss: nan - 67ms/epoch - 2ms/step\n",
      "Epoch 92/100\n",
      "32/32 - 0s - loss: nan - 70ms/epoch - 2ms/step\n",
      "Epoch 93/100\n",
      "32/32 - 0s - loss: nan - 70ms/epoch - 2ms/step\n",
      "Epoch 94/100\n",
      "32/32 - 0s - loss: nan - 107ms/epoch - 3ms/step\n",
      "Epoch 95/100\n",
      "32/32 - 0s - loss: nan - 83ms/epoch - 3ms/step\n",
      "Epoch 96/100\n",
      "32/32 - 0s - loss: nan - 85ms/epoch - 3ms/step\n",
      "Epoch 97/100\n",
      "32/32 - 0s - loss: nan - 73ms/epoch - 2ms/step\n",
      "Epoch 98/100\n",
      "32/32 - 0s - loss: nan - 78ms/epoch - 2ms/step\n",
      "Epoch 99/100\n",
      "32/32 - 0s - loss: nan - 66ms/epoch - 2ms/step\n",
      "Epoch 100/100\n",
      "32/32 - 0s - loss: nan - 67ms/epoch - 2ms/step\n"
     ]
    },
    {
     "data": {
      "text/plain": [
       "<keras.callbacks.History at 0x1352f512b20>"
      ]
     },
     "execution_count": 4,
     "metadata": {},
     "output_type": "execute_result"
    }
   ],
   "source": [
    "input_size = 2\n",
    "output_size = 1\n",
    "\n",
    "model = tf.keras.Sequential([# functions that specifies how the model will be laid down ('stacked layers')\n",
    "                            tf.keras.layers.Dense(output_size, # functions that takes the inputs provided into the model and calculates the dot product of the inputs and weights and add bias, analogus to y = m*x + b where we multiply m and x using dot product\n",
    "                                                        kernel_initializer=tf.random_uniform_initializer(minval=-0.1, maxval=0.1),\n",
    "\t\t\t\t\t\t\t\t\t\t\t\t\t\tbias_initializer=tf.random_uniform_initializer(minval=-0.1, maxval=0.1))\n",
    "                            ]) \n",
    "\n",
    "# We can also define a custom optimizer, where we can specify the learning rate\n",
    "custom_optimizer = tf.keras.optimizers.SGD(learning_rate=0.1)\n",
    "\n",
    "model.compile(optimizer=custom_optimizer, loss='mean_squared_error') # configures the model for training, SGD stands for stochastic gradient descent and mean_squared error is L2-norm loss function\n",
    "\n",
    "model.fit(training_data['inputs'], training_data['targets'], epochs=100, verbose=2) # fit the model, where epochs = number of iterations"
   ]
  },
  {
   "cell_type": "markdown",
   "metadata": {},
   "source": [
    "## Extract the weights and bias"
   ]
  },
  {
   "cell_type": "code",
   "execution_count": 5,
   "metadata": {
    "tags": []
   },
   "outputs": [
    {
     "data": {
      "text/plain": [
       "[array([[nan],\n",
       "        [nan]], dtype=float32),\n",
       " array([nan], dtype=float32)]"
      ]
     },
     "execution_count": 5,
     "metadata": {},
     "output_type": "execute_result"
    }
   ],
   "source": [
    "model.layers[0].get_weights() # Extracting the weights and bias"
   ]
  },
  {
   "cell_type": "code",
   "execution_count": 6,
   "metadata": {
    "tags": []
   },
   "outputs": [],
   "source": [
    "# Assigning weights\n",
    "\n",
    "weights = model.layers[0].get_weights()[0]\n",
    "\n",
    "# Assigning bias\n",
    "\n",
    "bias = model.layers[0].get_weights()[1]"
   ]
  },
  {
   "cell_type": "markdown",
   "metadata": {},
   "source": [
    "## Extract outputs (make predictions)"
   ]
  },
  {
   "cell_type": "code",
   "execution_count": 7,
   "metadata": {
    "tags": []
   },
   "outputs": [
    {
     "name": "stdout",
     "output_type": "stream",
     "text": [
      "[[nan]\n",
      " [nan]\n",
      " [nan]\n",
      " [nan]\n",
      " [nan]\n",
      " [nan]\n",
      " [nan]\n",
      " [nan]\n",
      " [nan]\n",
      " [nan]]\n"
     ]
    }
   ],
   "source": [
    "prediction = model.predict_on_batch(training_data['inputs']) # Calculates the outputs with the given inputs (on the model earlier that compares with the loss function)\n",
    "# Each of the values in the array corresponds to the targets to evaluate the loss function (after 100 epochs)\n",
    "\n",
    "print(prediction[:10].round(2))"
   ]
  },
  {
   "cell_type": "code",
   "execution_count": 8,
   "metadata": {
    "tags": []
   },
   "outputs": [
    {
     "name": "stdout",
     "output_type": "stream",
     "text": [
      "[[-34.88]\n",
      " [ -5.79]\n",
      " [ -2.24]\n",
      " [-30.36]\n",
      " [ 15.43]\n",
      " [  7.63]\n",
      " [ -3.56]\n",
      " [  2.1 ]\n",
      " [  7.41]\n",
      " [ -1.75]]\n"
     ]
    }
   ],
   "source": [
    "# If compare the predicted outputs to the actual targets, here is some of the ways we can do\n",
    "\n",
    "print(training_data['targets'][:10].round(2))"
   ]
  },
  {
   "cell_type": "markdown",
   "metadata": {},
   "source": [
    "## Plotting the data"
   ]
  },
  {
   "cell_type": "code",
   "execution_count": 10,
   "metadata": {
    "tags": []
   },
   "outputs": [
    {
     "data": {
      "image/png": "[encoded data removed]",
      "text/plain": [
       "<Figure size 432x288 with 1 Axes>"
      ]
     },
     "metadata": {
      "needs_background": "light"
     },
     "output_type": "display_data"
    }
   ],
   "source": [
    "# The line should be as close to 45 degrees possible\n",
    "# learning rate 0.0001\n",
    "\n",
    "plt.plot(np.squeeze(prediction), np.squeeze(training_data['targets']))\n",
    "plt.xlabel('predict')\n",
    "plt.ylabel('target')\n",
    "plt.axis('equal')  # Set equal scaling for both axes\n",
    "\n",
    "plt.show()"
   ]
  },
  {
   "cell_type": "code",
   "execution_count": 9,
   "metadata": {},
   "outputs": [
    {
     "data": {
      "image/png": "[encoded data removed]",
      "text/plain": [
       "<Figure size 432x288 with 1 Axes>"
      ]
     },
     "metadata": {
      "needs_background": "light"
     },
     "output_type": "display_data"
    }
   ],
   "source": [
    "# The line should be as close to 45 degrees possible\n",
    "# learning rate 0.001\n",
    "\n",
    "plt.plot(np.squeeze(prediction), np.squeeze(training_data['targets']))\n",
    "plt.xlabel('predict')\n",
    "plt.ylabel('target')\n",
    "plt.axis('equal')  # Set equal scaling for both axes\n",
    "\n",
    "plt.show()"
   ]
  },
  {
   "cell_type": "code",
   "execution_count": 9,
   "metadata": {},
   "outputs": [
    {
     "data": {
      "image/png": "[encoded data removed]",
      "text/plain": [
       "<Figure size 432x288 with 1 Axes>"
      ]
     },
     "metadata": {
      "needs_background": "light"
     },
     "output_type": "display_data"
    }
   ],
   "source": [
    "# The line should be as close to 45 degrees possible\n",
    "# learning rate 0.1\n",
    "\n",
    "plt.plot(np.squeeze(prediction), np.squeeze(training_data['targets']))\n",
    "plt.xlabel('predict')\n",
    "plt.ylabel('target')\n",
    "plt.axis('equal')  # Set equal scaling for both axes\n",
    "\n",
    "plt.show()"
   ]
  },
  {
   "cell_type": "raw",
   "metadata": {},
   "source": [
    "Here are some takeaways:\n",
    "\n",
    "For learning rate of 0.0001\n",
    "\n",
    "1. It takes the algorithm the same time to finish working.\n",
    "2. The loss is not really minimized.\n",
    "3. The weights and biases have not reached the desired values.\n",
    "4. More iterations are needed for this learning rate to solve the problem.\n",
    "5. The problem IS NOT SOLVED.\n",
    "6. The final graph looks like a 45-degree line, but if you scale the axes, it would not be a 45-degree line.\n",
    "\n",
    "For learning rate of 0.001\n",
    "\n",
    "1. It takes the algorithm the same time to solve the problem.\n",
    "2. The result is the somewhat minizmed as the loss was scaled (the mean_squared_loss, so the average L2-norm).\n",
    "3. The loss starts oscillating at some point at higher epochs\n",
    "4. The final graph looks like a 45-degree line, but if you scale the axes, it would not be a 45-degree line.\n",
    "\n",
    "\n",
    "For learnign rate of 0.1\n",
    "\n",
    "1. It takes the algorithm the same time to finish working.\n",
    "2. The loss DIVERGES TO INFINITY.\n",
    "3. The weights and biases are completely random and extremely big (in fact their value is nan).\n",
    "4. More iterations would not solve the issue, as the loss is not converging.\n",
    "5. The problem IS NOT SOLVED.\n",
    "6. The final graph cannot be printed as all outputs are nan."
   ]
  },
  {
   "cell_type": "markdown",
   "metadata": {},
   "source": [
    "# 3. Change the loss function. An alternative loss for regressions is the Huber loss."
   ]
  },
  {
   "cell_type": "code",
   "execution_count": 6,
   "metadata": {
    "tags": []
   },
   "outputs": [],
   "source": [
    "# The Huber loss is more appropriate than the L2-norm when we have outliers, as it is less sensitive to them (in our example we don't have outliers, but you will surely stumble upon a dataset with outliers in the future). The L2-norm loss puts all differences *to the square*, so outliers have a lot of influence on the outcome. \n",
    "# The proper syntax of the Huber loss is 'huber_loss'"
   ]
  },
  {
   "cell_type": "markdown",
   "metadata": {},
   "source": [
    "## Data generation"
   ]
  },
  {
   "cell_type": "code",
   "execution_count": 2,
   "metadata": {
    "tags": []
   },
   "outputs": [],
   "source": [
    "observations = 1000\n",
    "\n",
    "xs = np.random.uniform(low=-10, high=10, size=(observations,1))\n",
    "zs = np.random.uniform(-10, 10, (observations,1))\n",
    "\n",
    "generated_inputs = np.column_stack((xs,zs))\n",
    "\n",
    "noise = np.random.uniform(-1, 1, (observations,1))\n",
    "\n",
    "generated_targets = 2*xs - 3*zs + 5 + noise\n",
    "\n",
    "np.savez('TF_intro', inputs=generated_inputs, targets=generated_targets)\n"
   ]
  },
  {
   "cell_type": "markdown",
   "metadata": {},
   "source": [
    "## Solving with TensorFlow"
   ]
  },
  {
   "cell_type": "code",
   "execution_count": 3,
   "metadata": {
    "tags": []
   },
   "outputs": [],
   "source": [
    "training_data = np.load('TF_intro.npz')"
   ]
  },
  {
   "cell_type": "code",
   "execution_count": 4,
   "metadata": {
    "tags": []
   },
   "outputs": [
    {
     "name": "stdout",
     "output_type": "stream",
     "text": [
      "Epoch 1/100\n",
      "32/32 - 1s - loss: 11.5750 - 963ms/epoch - 30ms/step\n",
      "Epoch 2/100\n",
      "32/32 - 0s - loss: 4.3432 - 80ms/epoch - 2ms/step\n",
      "Epoch 3/100\n",
      "32/32 - 0s - loss: 3.4668 - 74ms/epoch - 2ms/step\n",
      "Epoch 4/100\n",
      "32/32 - 0s - loss: 2.8138 - 67ms/epoch - 2ms/step\n",
      "Epoch 5/100\n",
      "32/32 - 0s - loss: 2.2227 - 68ms/epoch - 2ms/step\n",
      "Epoch 6/100\n",
      "32/32 - 0s - loss: 1.6405 - 70ms/epoch - 2ms/step\n",
      "Epoch 7/100\n",
      "32/32 - 0s - loss: 1.0858 - 69ms/epoch - 2ms/step\n",
      "Epoch 8/100\n",
      "32/32 - 0s - loss: 0.6191 - 73ms/epoch - 2ms/step\n",
      "Epoch 9/100\n",
      "32/32 - 0s - loss: 0.3513 - 67ms/epoch - 2ms/step\n",
      "Epoch 10/100\n",
      "32/32 - 0s - loss: 0.2348 - 78ms/epoch - 2ms/step\n",
      "Epoch 11/100\n",
      "32/32 - 0s - loss: 0.1931 - 68ms/epoch - 2ms/step\n",
      "Epoch 12/100\n",
      "32/32 - 0s - loss: 0.1805 - 71ms/epoch - 2ms/step\n",
      "Epoch 13/100\n",
      "32/32 - 0s - loss: 0.1776 - 67ms/epoch - 2ms/step\n",
      "Epoch 14/100\n",
      "32/32 - 0s - loss: 0.1801 - 82ms/epoch - 3ms/step\n",
      "Epoch 15/100\n",
      "32/32 - 0s - loss: 0.1727 - 99ms/epoch - 3ms/step\n",
      "Epoch 16/100\n",
      "32/32 - 0s - loss: 0.1755 - 65ms/epoch - 2ms/step\n",
      "Epoch 17/100\n",
      "32/32 - 0s - loss: 0.1791 - 70ms/epoch - 2ms/step\n",
      "Epoch 18/100\n",
      "32/32 - 0s - loss: 0.1726 - 68ms/epoch - 2ms/step\n",
      "Epoch 19/100\n",
      "32/32 - 0s - loss: 0.1724 - 90ms/epoch - 3ms/step\n",
      "Epoch 20/100\n",
      "32/32 - 0s - loss: 0.1760 - 105ms/epoch - 3ms/step\n",
      "Epoch 21/100\n",
      "32/32 - 0s - loss: 0.1735 - 64ms/epoch - 2ms/step\n",
      "Epoch 22/100\n",
      "32/32 - 0s - loss: 0.1759 - 72ms/epoch - 2ms/step\n",
      "Epoch 23/100\n",
      "32/32 - 0s - loss: 0.1734 - 77ms/epoch - 2ms/step\n",
      "Epoch 24/100\n",
      "32/32 - 0s - loss: 0.1746 - 72ms/epoch - 2ms/step\n",
      "Epoch 25/100\n",
      "32/32 - 0s - loss: 0.1769 - 76ms/epoch - 2ms/step\n",
      "Epoch 26/100\n",
      "32/32 - 0s - loss: 0.1739 - 73ms/epoch - 2ms/step\n",
      "Epoch 27/100\n",
      "32/32 - 0s - loss: 0.1755 - 70ms/epoch - 2ms/step\n",
      "Epoch 28/100\n",
      "32/32 - 0s - loss: 0.1736 - 135ms/epoch - 4ms/step\n",
      "Epoch 29/100\n",
      "32/32 - 0s - loss: 0.1730 - 101ms/epoch - 3ms/step\n",
      "Epoch 30/100\n",
      "32/32 - 0s - loss: 0.1757 - 65ms/epoch - 2ms/step\n",
      "Epoch 31/100\n",
      "32/32 - 0s - loss: 0.1741 - 68ms/epoch - 2ms/step\n",
      "Epoch 32/100\n",
      "32/32 - 0s - loss: 0.1739 - 70ms/epoch - 2ms/step\n",
      "Epoch 33/100\n",
      "32/32 - 0s - loss: 0.1729 - 129ms/epoch - 4ms/step\n",
      "Epoch 34/100\n",
      "32/32 - 0s - loss: 0.1750 - 141ms/epoch - 4ms/step\n",
      "Epoch 35/100\n",
      "32/32 - 0s - loss: 0.1801 - 137ms/epoch - 4ms/step\n",
      "Epoch 36/100\n",
      "32/32 - 0s - loss: 0.1727 - 134ms/epoch - 4ms/step\n",
      "Epoch 37/100\n",
      "32/32 - 0s - loss: 0.1740 - 124ms/epoch - 4ms/step\n",
      "Epoch 38/100\n",
      "32/32 - 0s - loss: 0.1709 - 136ms/epoch - 4ms/step\n",
      "Epoch 39/100\n",
      "32/32 - 0s - loss: 0.1726 - 139ms/epoch - 4ms/step\n",
      "Epoch 40/100\n",
      "32/32 - 0s - loss: 0.1789 - 128ms/epoch - 4ms/step\n",
      "Epoch 41/100\n",
      "32/32 - 0s - loss: 0.1769 - 143ms/epoch - 4ms/step\n",
      "Epoch 42/100\n",
      "32/32 - 0s - loss: 0.1744 - 138ms/epoch - 4ms/step\n",
      "Epoch 43/100\n",
      "32/32 - 0s - loss: 0.1752 - 127ms/epoch - 4ms/step\n",
      "Epoch 44/100\n",
      "32/32 - 0s - loss: 0.1776 - 122ms/epoch - 4ms/step\n",
      "Epoch 45/100\n",
      "32/32 - 0s - loss: 0.1721 - 145ms/epoch - 5ms/step\n",
      "Epoch 46/100\n",
      "32/32 - 0s - loss: 0.1734 - 133ms/epoch - 4ms/step\n",
      "Epoch 47/100\n",
      "32/32 - 0s - loss: 0.1738 - 132ms/epoch - 4ms/step\n",
      "Epoch 48/100\n",
      "32/32 - 0s - loss: 0.1701 - 83ms/epoch - 3ms/step\n",
      "Epoch 49/100\n",
      "32/32 - 0s - loss: 0.1726 - 60ms/epoch - 2ms/step\n",
      "Epoch 50/100\n",
      "32/32 - 0s - loss: 0.1722 - 99ms/epoch - 3ms/step\n",
      "Epoch 51/100\n",
      "32/32 - 0s - loss: 0.1734 - 107ms/epoch - 3ms/step\n",
      "Epoch 52/100\n",
      "32/32 - 0s - loss: 0.1722 - 103ms/epoch - 3ms/step\n",
      "Epoch 53/100\n",
      "32/32 - 0s - loss: 0.1741 - 79ms/epoch - 2ms/step\n",
      "Epoch 54/100\n",
      "32/32 - 0s - loss: 0.1753 - 62ms/epoch - 2ms/step\n",
      "Epoch 55/100\n",
      "32/32 - 0s - loss: 0.1742 - 64ms/epoch - 2ms/step\n",
      "Epoch 56/100\n",
      "32/32 - 0s - loss: 0.1742 - 55ms/epoch - 2ms/step\n",
      "Epoch 57/100\n",
      "32/32 - 0s - loss: 0.1755 - 52ms/epoch - 2ms/step\n",
      "Epoch 58/100\n",
      "32/32 - 0s - loss: 0.1771 - 60ms/epoch - 2ms/step\n",
      "Epoch 59/100\n",
      "32/32 - 0s - loss: 0.1757 - 67ms/epoch - 2ms/step\n",
      "Epoch 60/100\n",
      "32/32 - 0s - loss: 0.1744 - 68ms/epoch - 2ms/step\n",
      "Epoch 61/100\n",
      "32/32 - 0s - loss: 0.1729 - 69ms/epoch - 2ms/step\n",
      "Epoch 62/100\n",
      "32/32 - 0s - loss: 0.1722 - 76ms/epoch - 2ms/step\n",
      "Epoch 63/100\n",
      "32/32 - 0s - loss: 0.1737 - 72ms/epoch - 2ms/step\n",
      "Epoch 64/100\n",
      "32/32 - 0s - loss: 0.1740 - 60ms/epoch - 2ms/step\n",
      "Epoch 65/100\n",
      "32/32 - 0s - loss: 0.1729 - 61ms/epoch - 2ms/step\n",
      "Epoch 66/100\n",
      "32/32 - 0s - loss: 0.1731 - 58ms/epoch - 2ms/step\n",
      "Epoch 67/100\n",
      "32/32 - 0s - loss: 0.1751 - 75ms/epoch - 2ms/step\n",
      "Epoch 68/100\n",
      "32/32 - 0s - loss: 0.1730 - 103ms/epoch - 3ms/step\n",
      "Epoch 69/100\n",
      "32/32 - 0s - loss: 0.1767 - 105ms/epoch - 3ms/step\n",
      "Epoch 70/100\n",
      "32/32 - 0s - loss: 0.1746 - 102ms/epoch - 3ms/step\n",
      "Epoch 71/100\n",
      "32/32 - 0s - loss: 0.1729 - 121ms/epoch - 4ms/step\n",
      "Epoch 72/100\n",
      "32/32 - 0s - loss: 0.1723 - 108ms/epoch - 3ms/step\n",
      "Epoch 73/100\n",
      "32/32 - 0s - loss: 0.1725 - 102ms/epoch - 3ms/step\n",
      "Epoch 74/100\n",
      "32/32 - 0s - loss: 0.1755 - 95ms/epoch - 3ms/step\n",
      "Epoch 75/100\n",
      "32/32 - 0s - loss: 0.1712 - 102ms/epoch - 3ms/step\n",
      "Epoch 76/100\n",
      "32/32 - 0s - loss: 0.1765 - 104ms/epoch - 3ms/step\n",
      "Epoch 77/100\n",
      "32/32 - 0s - loss: 0.1794 - 91ms/epoch - 3ms/step\n",
      "Epoch 78/100\n",
      "32/32 - 0s - loss: 0.1767 - 82ms/epoch - 3ms/step\n",
      "Epoch 79/100\n",
      "32/32 - 0s - loss: 0.1755 - 63ms/epoch - 2ms/step\n",
      "Epoch 80/100\n",
      "32/32 - 0s - loss: 0.1747 - 74ms/epoch - 2ms/step\n",
      "Epoch 81/100\n",
      "32/32 - 0s - loss: 0.1770 - 97ms/epoch - 3ms/step\n",
      "Epoch 82/100\n",
      "32/32 - 0s - loss: 0.1751 - 82ms/epoch - 3ms/step\n",
      "Epoch 83/100\n",
      "32/32 - 0s - loss: 0.1759 - 95ms/epoch - 3ms/step\n",
      "Epoch 84/100\n",
      "32/32 - 0s - loss: 0.1764 - 94ms/epoch - 3ms/step\n",
      "Epoch 85/100\n",
      "32/32 - 0s - loss: 0.1724 - 98ms/epoch - 3ms/step\n",
      "Epoch 86/100\n",
      "32/32 - 0s - loss: 0.1743 - 98ms/epoch - 3ms/step\n",
      "Epoch 87/100\n",
      "32/32 - 0s - loss: 0.1776 - 105ms/epoch - 3ms/step\n",
      "Epoch 88/100\n",
      "32/32 - 0s - loss: 0.1727 - 88ms/epoch - 3ms/step\n",
      "Epoch 89/100\n",
      "32/32 - 0s - loss: 0.1775 - 94ms/epoch - 3ms/step\n",
      "Epoch 90/100\n",
      "32/32 - 0s - loss: 0.1736 - 97ms/epoch - 3ms/step\n",
      "Epoch 91/100\n",
      "32/32 - 0s - loss: 0.1743 - 93ms/epoch - 3ms/step\n",
      "Epoch 92/100\n",
      "32/32 - 0s - loss: 0.1756 - 83ms/epoch - 3ms/step\n",
      "Epoch 93/100\n",
      "32/32 - 0s - loss: 0.1764 - 93ms/epoch - 3ms/step\n",
      "Epoch 94/100\n",
      "32/32 - 0s - loss: 0.1720 - 104ms/epoch - 3ms/step\n",
      "Epoch 95/100\n",
      "32/32 - 0s - loss: 0.1714 - 88ms/epoch - 3ms/step\n",
      "Epoch 96/100\n",
      "32/32 - 0s - loss: 0.1759 - 91ms/epoch - 3ms/step\n",
      "Epoch 97/100\n",
      "32/32 - 0s - loss: 0.1774 - 88ms/epoch - 3ms/step\n",
      "Epoch 98/100\n",
      "32/32 - 0s - loss: 0.1750 - 76ms/epoch - 2ms/step\n",
      "Epoch 99/100\n",
      "32/32 - 0s - loss: 0.1710 - 68ms/epoch - 2ms/step\n",
      "Epoch 100/100\n",
      "32/32 - 0s - loss: 0.1743 - 73ms/epoch - 2ms/step\n"
     ]
    },
    {
     "data": {
      "text/plain": [
       "<keras.callbacks.History at 0x2088eb02d90>"
      ]
     },
     "execution_count": 4,
     "metadata": {},
     "output_type": "execute_result"
    }
   ],
   "source": [
    "input_size = 2\n",
    "output_size = 1\n",
    "\n",
    "model = tf.keras.Sequential([# functions that specifies how the model will be laid down ('stacked layers')\n",
    "                            tf.keras.layers.Dense(output_size, # functions that takes the inputs provided into the model and calculates the dot product of the inputs and weights and add bias, analogus to y = m*x + b where we multiply m and x using dot product\n",
    "                                                        kernel_initializer=tf.random_uniform_initializer(minval=-0.1, maxval=0.1),\n",
    "\t\t\t\t\t\t\t\t\t\t\t\t\t\tbias_initializer=tf.random_uniform_initializer(minval=-0.1, maxval=0.1))\n",
    "                            ]) \n",
    "\n",
    "# We can also define a custom optimizer, where we can specify the learning rate\n",
    "custom_optimizer = tf.keras.optimizers.SGD(learning_rate=0.02)\n",
    "\n",
    "model.compile(optimizer=custom_optimizer, loss='huber_loss') # configures the model for training, SGD stands for stochastic gradient descent with this time, we replace mean_squred_loss to huber_loss\n",
    "\n",
    "model.fit(training_data['inputs'], training_data['targets'], epochs=100, verbose=2) # fit the model, where epochs = number of iterations"
   ]
  },
  {
   "cell_type": "markdown",
   "metadata": {},
   "source": [
    "## Extract the weights and bias"
   ]
  },
  {
   "cell_type": "code",
   "execution_count": 5,
   "metadata": {
    "tags": []
   },
   "outputs": [
    {
     "data": {
      "text/plain": [
       "[array([[ 2.0556152],\n",
       "        [-3.026592 ]], dtype=float32),\n",
       " array([4.9866123], dtype=float32)]"
      ]
     },
     "execution_count": 5,
     "metadata": {},
     "output_type": "execute_result"
    }
   ],
   "source": [
    "model.layers[0].get_weights() # Extracting the weights and bias"
   ]
  },
  {
   "cell_type": "code",
   "execution_count": 6,
   "metadata": {
    "tags": []
   },
   "outputs": [],
   "source": [
    "# Assigning weights\n",
    "\n",
    "weights = model.layers[0].get_weights()[0]\n",
    "\n",
    "# Assigning bias\n",
    "\n",
    "bias = model.layers[0].get_weights()[1]"
   ]
  },
  {
   "cell_type": "markdown",
   "metadata": {},
   "source": [
    "## Extract outputs (make predictions)"
   ]
  },
  {
   "cell_type": "code",
   "execution_count": 7,
   "metadata": {
    "tags": []
   },
   "outputs": [
    {
     "name": "stdout",
     "output_type": "stream",
     "text": [
      "[[  2.35]\n",
      " [ 30.64]\n",
      " [  8.07]\n",
      " [  5.48]\n",
      " [  0.37]\n",
      " [ -0.69]\n",
      " [  6.25]\n",
      " [-17.17]\n",
      " [ 40.7 ]\n",
      " [  6.05]]\n"
     ]
    }
   ],
   "source": [
    "prediction = model.predict_on_batch(training_data['inputs']) # Calculates the outputs with the given inputs (on the model earlier that compares with the loss function)\n",
    "# Each of the values in the array corresponds to the targets to evaluate the loss function (after 100 epochs)\n",
    "\n",
    "print(prediction[:10].round(2))"
   ]
  },
  {
   "cell_type": "code",
   "execution_count": 9,
   "metadata": {
    "tags": []
   },
   "outputs": [
    {
     "name": "stdout",
     "output_type": "stream",
     "text": [
      "[[  2.61]\n",
      " [ 31.19]\n",
      " [  7.64]\n",
      " [  5.27]\n",
      " [  1.3 ]\n",
      " [ -1.38]\n",
      " [  6.8 ]\n",
      " [-16.96]\n",
      " [ 40.85]\n",
      " [  6.67]]\n"
     ]
    }
   ],
   "source": [
    "# If compare the predicted outputs to the actual targets, here is some of the ways we can do\n",
    "\n",
    "print(training_data['targets'][:10].round(2))"
   ]
  },
  {
   "cell_type": "markdown",
   "metadata": {},
   "source": [
    "## Plotting the data"
   ]
  },
  {
   "cell_type": "code",
   "execution_count": 11,
   "metadata": {
    "tags": []
   },
   "outputs": [
    {
     "data": {
      "image/png": "[encoded data removed]",
      "text/plain": [
       "<Figure size 432x288 with 1 Axes>"
      ]
     },
     "metadata": {
      "needs_background": "light"
     },
     "output_type": "display_data"
    }
   ],
   "source": [
    "# The line should be as close to 45 degrees possible\n",
    "\n",
    "plt.plot(np.squeeze(prediction), np.squeeze(training_data['targets']))\n",
    "plt.xlabel('predict')\n",
    "plt.ylabel('target')\n",
    "plt.axis('equal')\n",
    "plt.show()"
   ]
  },
  {
   "cell_type": "raw",
   "metadata": {},
   "source": [
    "Some takeaways:\n",
    "\n",
    "1. Any function that has the property to be lower for better results and higher for worse results can be a loss function. This includes the Huber loss.\n",
    "\n",
    "2. Almost everything seems identical when compared to L2-norm loss.\n",
    "\n",
    "3. The values of the loss are generally lower (because of the Huber loss formula, and the convexity of the two functions).\n",
    "\n",
    "4. For our problem, both the mean squared loss and the Huber loss work equally well.\n",
    "Generally, the Huber loss is used when we have a lot of outliers."
   ]
  }
 ],
 "metadata": {
  "kernelspec": {
   "display_name": "Python 3 (ipykernel)",
   "language": "python",
   "name": "python3"
  },
  "language_info": {
   "codemirror_mode": {
    "name": "ipython",
    "version": 3
   },
   "file_extension": ".py",
   "mimetype": "text/x-python",
   "name": "python",
   "nbconvert_exporter": "python",
   "pygments_lexer": "ipython3",
   "version": "3.9.12"
  }
 },
 "nbformat": 4,
 "nbformat_minor": 4
}
